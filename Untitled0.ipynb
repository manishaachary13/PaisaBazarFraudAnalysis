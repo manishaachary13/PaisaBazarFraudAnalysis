{
  "nbformat": 4,
  "nbformat_minor": 0,
  "metadata": {
    "colab": {
      "provenance": [],
      "authorship_tag": "ABX9TyMnhpaLphrSueT/lec1vMpP",
      "include_colab_link": true
    },
    "kernelspec": {
      "name": "python3",
      "display_name": "Python 3"
    },
    "language_info": {
      "name": "python"
    }
  },
  "cells": [
    {
      "cell_type": "markdown",
      "metadata": {
        "id": "view-in-github",
        "colab_type": "text"
      },
      "source": [
        "<a href=\"https://colab.research.google.com/github/manishaachary13/PaisaBazarFraudAnalysis/blob/main/Untitled0.ipynb\" target=\"_parent\"><img src=\"https://colab.research.google.com/assets/colab-badge.svg\" alt=\"Open In Colab\"/></a>"
      ]
    },
    {
      "cell_type": "markdown",
      "source": [
        "![OIP (2).jpg](data:image/jpeg;base64,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)"
      ],
      "metadata": {
        "id": "8cqnJFzP4-dZ"
      }
    },
    {
      "cell_type": "markdown",
      "source": [
        "#  **PROJECT NAME**\n",
        "$\\color{blue}{\\text{Paisa Bazar Fraud Analysis}}$\n",
        "\n",
        "Name - **R Manisha Achary**"
      ],
      "metadata": {
        "id": "ZeEifMhA5GoR"
      }
    },
    {
      "cell_type": "markdown",
      "source": [
        "# **Project Summary**"
      ],
      "metadata": {
        "id": "_8bazJVT_txy"
      }
    },
    {
      "cell_type": "markdown",
      "source": [
        "\n",
        "\n",
        "### **1. Getting the Dataset**  \n",
        "\n",
        "### **2. Importing Libraries**  \n",
        "\n",
        "### **3. Importing Datasets**  \n",
        "\n",
        "## **Data Cleaning & Preprocessing**  \n",
        "\n",
        "### **4. Duplicate Values**  \n",
        "- Checked and removed duplicates.  \n",
        "\n",
        "### **5. Missing Values**  \n",
        "- Identified missing data.  \n",
        "\n",
        "### **6. Data Wrangling**  \n",
        "- Performed necessary transformations.  \n",
        "\n",
        "### **7. Handling Missing Values**  \n",
        "- Imputed missing values.  \n",
        "\n",
        "### **8. Removing Duplicates**  \n",
        "- Removed redundant data points.  \n",
        "\n",
        "## **Exploratory Data Analysis (EDA)**  \n",
        "\n",
        "### *\n",
        "\n",
        "## **Solutions to Business Objectives**  \n",
        "\n",
        "## **Conclusion**  "
      ],
      "metadata": {
        "id": "2Di03KLZEntl"
      }
    },
    {
      "cell_type": "code",
      "source": [],
      "metadata": {
        "id": "TCoNjX9G6O8z"
      },
      "execution_count": null,
      "outputs": []
    },
    {
      "cell_type": "markdown",
      "source": [
        "# **GitHub Link -**\n",
        "https://github.com/manishaachary13/Amazon-Prime.git"
      ],
      "metadata": {
        "id": "1-47Rl2gGMGC"
      }
    }
  ]
}